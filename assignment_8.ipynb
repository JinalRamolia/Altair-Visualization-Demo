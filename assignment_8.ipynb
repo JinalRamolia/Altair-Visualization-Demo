{
  "nbformat": 4,
  "nbformat_minor": 0,
  "metadata": {
    "colab": {
      "name": "assignment_8.ipynb",
      "provenance": [],
      "authorship_tag": "ABX9TyM7LU0peckcgOebIl/6G1yV",
      "include_colab_link": true
    },
    "kernelspec": {
      "name": "python3",
      "display_name": "Python 3"
    }
  },
  "cells": [
    {
      "cell_type": "markdown",
      "metadata": {
        "id": "view-in-github",
        "colab_type": "text"
      },
      "source": [
        "<a href=\"https://colab.research.google.com/github/harshbhanderi/Altair-Visualization-Demo/blob/master/assignment_8.ipynb\" target=\"_parent\"><img src=\"https://colab.research.google.com/assets/colab-badge.svg\" alt=\"Open In Colab\"/></a>"
      ]
    },
    {
      "cell_type": "code",
      "metadata": {
        "id": "Urcf2LM3GcWU",
        "colab_type": "code",
        "colab": {}
      },
      "source": [
        "import pandas as pd\n",
        "import numpy as np\n",
        "import math"
      ],
      "execution_count": 0,
      "outputs": []
    },
    {
      "cell_type": "code",
      "metadata": {
        "id": "fi6Ckd1fGu_P",
        "colab_type": "code",
        "colab": {}
      },
      "source": [
        "# read csv from the given link\n",
        "df = pd.read_csv('https://ed-public-download.app.cloud.gov/downloads/Most-Recent-Cohorts-All-Data-Elements.csv', usecols=['CONTROL', 'MD_EARN_WNE_P10'])"
      ],
      "execution_count": 0,
      "outputs": []
    },
    {
      "cell_type": "code",
      "metadata": {
        "id": "8_38zqevG41u",
        "colab_type": "code",
        "colab": {
          "base_uri": "https://localhost:8080/",
          "height": 204
        },
        "outputId": "3a8deb5b-91fc-4f45-f024-94a8663b2236"
      },
      "source": [
        "df.head()"
      ],
      "execution_count": 189,
      "outputs": [
        {
          "output_type": "execute_result",
          "data": {
            "text/html": [
              "<div>\n",
              "<style scoped>\n",
              "    .dataframe tbody tr th:only-of-type {\n",
              "        vertical-align: middle;\n",
              "    }\n",
              "\n",
              "    .dataframe tbody tr th {\n",
              "        vertical-align: top;\n",
              "    }\n",
              "\n",
              "    .dataframe thead th {\n",
              "        text-align: right;\n",
              "    }\n",
              "</style>\n",
              "<table border=\"1\" class=\"dataframe\">\n",
              "  <thead>\n",
              "    <tr style=\"text-align: right;\">\n",
              "      <th></th>\n",
              "      <th>CONTROL</th>\n",
              "      <th>MD_EARN_WNE_P10</th>\n",
              "    </tr>\n",
              "  </thead>\n",
              "  <tbody>\n",
              "    <tr>\n",
              "      <th>0</th>\n",
              "      <td>1</td>\n",
              "      <td>31000</td>\n",
              "    </tr>\n",
              "    <tr>\n",
              "      <th>1</th>\n",
              "      <td>1</td>\n",
              "      <td>41200</td>\n",
              "    </tr>\n",
              "    <tr>\n",
              "      <th>2</th>\n",
              "      <td>2</td>\n",
              "      <td>39600</td>\n",
              "    </tr>\n",
              "    <tr>\n",
              "      <th>3</th>\n",
              "      <td>1</td>\n",
              "      <td>46700</td>\n",
              "    </tr>\n",
              "    <tr>\n",
              "      <th>4</th>\n",
              "      <td>1</td>\n",
              "      <td>27700</td>\n",
              "    </tr>\n",
              "  </tbody>\n",
              "</table>\n",
              "</div>"
            ],
            "text/plain": [
              "   CONTROL MD_EARN_WNE_P10\n",
              "0        1           31000\n",
              "1        1           41200\n",
              "2        2           39600\n",
              "3        1           46700\n",
              "4        1           27700"
            ]
          },
          "metadata": {
            "tags": []
          },
          "execution_count": 189
        }
      ]
    },
    {
      "cell_type": "code",
      "metadata": {
        "id": "rzMIP72qG6Vk",
        "colab_type": "code",
        "colab": {
          "base_uri": "https://localhost:8080/",
          "height": 85
        },
        "outputId": "f989e4cf-81b7-456c-ec5c-b151c212bdc3"
      },
      "source": [
        "df['CONTROL'].value_counts()"
      ],
      "execution_count": 190,
      "outputs": [
        {
          "output_type": "execute_result",
          "data": {
            "text/plain": [
              "3    2698\n",
              "1    2102\n",
              "2    2006\n",
              "Name: CONTROL, dtype: int64"
            ]
          },
          "metadata": {
            "tags": []
          },
          "execution_count": 190
        }
      ]
    },
    {
      "cell_type": "markdown",
      "metadata": {
        "id": "mmteSbwUIikr",
        "colab_type": "text"
      },
      "source": [
        "I don't know for which CONTROL variable there are public institutions, So I am guessing that CONTROL=1 is the public insitution and then filter the dataset according to it."
      ]
    },
    {
      "cell_type": "code",
      "metadata": {
        "id": "s7QPf1JjHjD9",
        "colab_type": "code",
        "colab": {}
      },
      "source": [
        "# creating new dataframe for CONTROL = 1 for public institutions\n",
        "df_new = df[df['CONTROL'] == 1]"
      ],
      "execution_count": 0,
      "outputs": []
    },
    {
      "cell_type": "code",
      "metadata": {
        "id": "lsj5lmrjJ0ms",
        "colab_type": "code",
        "colab": {
          "base_uri": "https://localhost:8080/",
          "height": 204
        },
        "outputId": "a8758b68-91c6-4258-b7bb-791ad69026d0"
      },
      "source": [
        "df_new.sample(5)"
      ],
      "execution_count": 223,
      "outputs": [
        {
          "output_type": "execute_result",
          "data": {
            "text/html": [
              "<div>\n",
              "<style scoped>\n",
              "    .dataframe tbody tr th:only-of-type {\n",
              "        vertical-align: middle;\n",
              "    }\n",
              "\n",
              "    .dataframe tbody tr th {\n",
              "        vertical-align: top;\n",
              "    }\n",
              "\n",
              "    .dataframe thead th {\n",
              "        text-align: right;\n",
              "    }\n",
              "</style>\n",
              "<table border=\"1\" class=\"dataframe\">\n",
              "  <thead>\n",
              "    <tr style=\"text-align: right;\">\n",
              "      <th></th>\n",
              "      <th>CONTROL</th>\n",
              "      <th>MD_EARN_WNE_P10</th>\n",
              "    </tr>\n",
              "  </thead>\n",
              "  <tbody>\n",
              "    <tr>\n",
              "      <th>2329</th>\n",
              "      <td>1</td>\n",
              "      <td>61600</td>\n",
              "    </tr>\n",
              "    <tr>\n",
              "      <th>3610</th>\n",
              "      <td>1</td>\n",
              "      <td>38100</td>\n",
              "    </tr>\n",
              "    <tr>\n",
              "      <th>1415</th>\n",
              "      <td>1</td>\n",
              "      <td>55000</td>\n",
              "    </tr>\n",
              "    <tr>\n",
              "      <th>2415</th>\n",
              "      <td>1</td>\n",
              "      <td>40500</td>\n",
              "    </tr>\n",
              "    <tr>\n",
              "      <th>2174</th>\n",
              "      <td>1</td>\n",
              "      <td>35400</td>\n",
              "    </tr>\n",
              "  </tbody>\n",
              "</table>\n",
              "</div>"
            ],
            "text/plain": [
              "      CONTROL MD_EARN_WNE_P10\n",
              "2329        1           61600\n",
              "3610        1           38100\n",
              "1415        1           55000\n",
              "2415        1           40500\n",
              "2174        1           35400"
            ]
          },
          "metadata": {
            "tags": []
          },
          "execution_count": 223
        }
      ]
    },
    {
      "cell_type": "code",
      "metadata": {
        "id": "qtgKR2rcMu3k",
        "colab_type": "code",
        "colab": {
          "base_uri": "https://localhost:8080/",
          "height": 170
        },
        "outputId": "ae34f3f3-3ba3-4a82-bac1-5e49cfa3cc41"
      },
      "source": [
        "df_new.info()"
      ],
      "execution_count": 224,
      "outputs": [
        {
          "output_type": "stream",
          "text": [
            "<class 'pandas.core.frame.DataFrame'>\n",
            "Int64Index: 2102 entries, 0 to 6805\n",
            "Data columns (total 2 columns):\n",
            " #   Column           Non-Null Count  Dtype \n",
            "---  ------           --------------  ----- \n",
            " 0   CONTROL          2102 non-null   int64 \n",
            " 1   MD_EARN_WNE_P10  1955 non-null   object\n",
            "dtypes: int64(1), object(1)\n",
            "memory usage: 49.3+ KB\n"
          ],
          "name": "stdout"
        }
      ]
    },
    {
      "cell_type": "code",
      "metadata": {
        "id": "gQ5B1m4sJ7Vy",
        "colab_type": "code",
        "colab": {
          "base_uri": "https://localhost:8080/",
          "height": 119
        },
        "outputId": "f45f3f9e-1327-473c-f41d-8f16a54b6bde"
      },
      "source": [
        "# There are some PrivacySupressed values in MD_EARN_WNE_P10 column , So I am ready to remove all null values and zeroes with that.\n",
        "\n",
        "df_new['MD_EARN_WNE_P10'] = pd.to_numeric(df_new['MD_EARN_WNE_P10'], errors='coerce')"
      ],
      "execution_count": 225,
      "outputs": [
        {
          "output_type": "stream",
          "text": [
            "/usr/local/lib/python3.6/dist-packages/ipykernel_launcher.py:2: SettingWithCopyWarning: \n",
            "A value is trying to be set on a copy of a slice from a DataFrame.\n",
            "Try using .loc[row_indexer,col_indexer] = value instead\n",
            "\n",
            "See the caveats in the documentation: https://pandas.pydata.org/pandas-docs/stable/user_guide/indexing.html#returning-a-view-versus-a-copy\n",
            "  \n"
          ],
          "name": "stderr"
        }
      ]
    },
    {
      "cell_type": "code",
      "metadata": {
        "id": "St_6aA3eKzrW",
        "colab_type": "code",
        "colab": {
          "base_uri": "https://localhost:8080/",
          "height": 170
        },
        "outputId": "c8ea9e8c-db26-47c5-f344-46733fc74907"
      },
      "source": [
        "df_new.info()"
      ],
      "execution_count": 226,
      "outputs": [
        {
          "output_type": "stream",
          "text": [
            "<class 'pandas.core.frame.DataFrame'>\n",
            "Int64Index: 2102 entries, 0 to 6805\n",
            "Data columns (total 2 columns):\n",
            " #   Column           Non-Null Count  Dtype  \n",
            "---  ------           --------------  -----  \n",
            " 0   CONTROL          2102 non-null   int64  \n",
            " 1   MD_EARN_WNE_P10  1853 non-null   float64\n",
            "dtypes: float64(1), int64(1)\n",
            "memory usage: 49.3 KB\n"
          ],
          "name": "stdout"
        }
      ]
    },
    {
      "cell_type": "code",
      "metadata": {
        "id": "ExP5DKvxSwxr",
        "colab_type": "code",
        "colab": {
          "base_uri": "https://localhost:8080/",
          "height": 170
        },
        "outputId": "48fdf9be-616d-48cf-ff74-7da08b7c85a1"
      },
      "source": [
        "df_new = df_new.dropna()\n",
        "df_new.info()"
      ],
      "execution_count": 227,
      "outputs": [
        {
          "output_type": "stream",
          "text": [
            "<class 'pandas.core.frame.DataFrame'>\n",
            "Int64Index: 1853 entries, 0 to 6615\n",
            "Data columns (total 2 columns):\n",
            " #   Column           Non-Null Count  Dtype  \n",
            "---  ------           --------------  -----  \n",
            " 0   CONTROL          1853 non-null   int64  \n",
            " 1   MD_EARN_WNE_P10  1853 non-null   float64\n",
            "dtypes: float64(1), int64(1)\n",
            "memory usage: 43.4 KB\n"
          ],
          "name": "stdout"
        }
      ]
    },
    {
      "cell_type": "code",
      "metadata": {
        "id": "G8iMEH6YMTFy",
        "colab_type": "code",
        "colab": {
          "base_uri": "https://localhost:8080/",
          "height": 627
        },
        "outputId": "4b155463-f03b-4ea2-fe34-03c3a2da66b4"
      },
      "source": [
        "# check with missingno if any null values remained\n",
        "\n",
        "import missingno as msno\n",
        "msno.matrix(df_new)"
      ],
      "execution_count": 228,
      "outputs": [
        {
          "output_type": "execute_result",
          "data": {
            "text/plain": [
              "<matplotlib.axes._subplots.AxesSubplot at 0x7f34c4b32668>"
            ]
          },
          "metadata": {
            "tags": []
          },
          "execution_count": 228
        },
        {
          "output_type": "display_data",
          "data": {
            "image/png": "[encoded data removed]",
            "text/plain": [
              "<Figure size 1800x720 with 2 Axes>"
            ]
          },
          "metadata": {
            "tags": [],
            "needs_background": "light"
          }
        }
      ]
    },
    {
      "cell_type": "markdown",
      "metadata": {
        "id": "vw8Zn28YmJMp",
        "colab_type": "text"
      },
      "source": [
        "----------------------------------\n",
        "-----------------------------------"
      ]
    },
    {
      "cell_type": "code",
      "metadata": {
        "id": "iu-qHH7XK1Dt",
        "colab_type": "code",
        "colab": {}
      },
      "source": [
        "# creating sample of 50 \n",
        " \n",
        "df_sample_50 = df_new.sample(50)"
      ],
      "execution_count": 0,
      "outputs": []
    },
    {
      "cell_type": "code",
      "metadata": {
        "id": "XNAb5ch1K9XF",
        "colab_type": "code",
        "colab": {
          "base_uri": "https://localhost:8080/",
          "height": 297
        },
        "outputId": "a8855144-65cc-4675-d0f8-1868fd5ae497"
      },
      "source": [
        "df_sample_50.describe()"
      ],
      "execution_count": 230,
      "outputs": [
        {
          "output_type": "execute_result",
          "data": {
            "text/html": [
              "<div>\n",
              "<style scoped>\n",
              "    .dataframe tbody tr th:only-of-type {\n",
              "        vertical-align: middle;\n",
              "    }\n",
              "\n",
              "    .dataframe tbody tr th {\n",
              "        vertical-align: top;\n",
              "    }\n",
              "\n",
              "    .dataframe thead th {\n",
              "        text-align: right;\n",
              "    }\n",
              "</style>\n",
              "<table border=\"1\" class=\"dataframe\">\n",
              "  <thead>\n",
              "    <tr style=\"text-align: right;\">\n",
              "      <th></th>\n",
              "      <th>CONTROL</th>\n",
              "      <th>MD_EARN_WNE_P10</th>\n",
              "    </tr>\n",
              "  </thead>\n",
              "  <tbody>\n",
              "    <tr>\n",
              "      <th>count</th>\n",
              "      <td>50.0</td>\n",
              "      <td>50.000000</td>\n",
              "    </tr>\n",
              "    <tr>\n",
              "      <th>mean</th>\n",
              "      <td>1.0</td>\n",
              "      <td>39018.000000</td>\n",
              "    </tr>\n",
              "    <tr>\n",
              "      <th>std</th>\n",
              "      <td>0.0</td>\n",
              "      <td>15867.071409</td>\n",
              "    </tr>\n",
              "    <tr>\n",
              "      <th>min</th>\n",
              "      <td>1.0</td>\n",
              "      <td>21500.000000</td>\n",
              "    </tr>\n",
              "    <tr>\n",
              "      <th>25%</th>\n",
              "      <td>1.0</td>\n",
              "      <td>30750.000000</td>\n",
              "    </tr>\n",
              "    <tr>\n",
              "      <th>50%</th>\n",
              "      <td>1.0</td>\n",
              "      <td>34950.000000</td>\n",
              "    </tr>\n",
              "    <tr>\n",
              "      <th>75%</th>\n",
              "      <td>1.0</td>\n",
              "      <td>42750.000000</td>\n",
              "    </tr>\n",
              "    <tr>\n",
              "      <th>max</th>\n",
              "      <td>1.0</td>\n",
              "      <td>114700.000000</td>\n",
              "    </tr>\n",
              "  </tbody>\n",
              "</table>\n",
              "</div>"
            ],
            "text/plain": [
              "       CONTROL  MD_EARN_WNE_P10\n",
              "count     50.0        50.000000\n",
              "mean       1.0     39018.000000\n",
              "std        0.0     15867.071409\n",
              "min        1.0     21500.000000\n",
              "25%        1.0     30750.000000\n",
              "50%        1.0     34950.000000\n",
              "75%        1.0     42750.000000\n",
              "max        1.0    114700.000000"
            ]
          },
          "metadata": {
            "tags": []
          },
          "execution_count": 230
        }
      ]
    },
    {
      "cell_type": "code",
      "metadata": {
        "id": "27KM7sxKPs4P",
        "colab_type": "code",
        "colab": {
          "base_uri": "https://localhost:8080/",
          "height": 34
        },
        "outputId": "0c188ab4-301d-4043-edc8-aad3648dac99"
      },
      "source": [
        "sample_mean_50 = df_sample_50[\"MD_EARN_WNE_P10\"].mean()\n",
        "sample_mean_50"
      ],
      "execution_count": 231,
      "outputs": [
        {
          "output_type": "execute_result",
          "data": {
            "text/plain": [
              "39018.0"
            ]
          },
          "metadata": {
            "tags": []
          },
          "execution_count": 231
        }
      ]
    },
    {
      "cell_type": "code",
      "metadata": {
        "id": "aFDUuaGEUNB-",
        "colab_type": "code",
        "colab": {
          "base_uri": "https://localhost:8080/",
          "height": 34
        },
        "outputId": "1f200cf1-3875-4f8c-a1af-4255e53cdaa8"
      },
      "source": [
        "sample_std_dev = df_sample_50[\"MD_EARN_WNE_P10\"].std()\n",
        "sample_std_dev"
      ],
      "execution_count": 232,
      "outputs": [
        {
          "output_type": "execute_result",
          "data": {
            "text/plain": [
              "15867.071409117714"
            ]
          },
          "metadata": {
            "tags": []
          },
          "execution_count": 232
        }
      ]
    },
    {
      "cell_type": "code",
      "metadata": {
        "id": "p49WByDjUSTi",
        "colab_type": "code",
        "colab": {
          "base_uri": "https://localhost:8080/",
          "height": 34
        },
        "outputId": "94169ef1-e088-45fb-c55e-6bcea9c85030"
      },
      "source": [
        "# let's calculate the standard error first \n",
        "# Since we assume we don't know the population standard deviation, we use sample standard deviation as an estimate\n",
        "\n",
        "std_err = sample_std_dev / math.sqrt(50)       # standard error\n",
        "std_err"
      ],
      "execution_count": 233,
      "outputs": [
        {
          "output_type": "execute_result",
          "data": {
            "text/plain": [
              "2243.942758191665"
            ]
          },
          "metadata": {
            "tags": []
          },
          "execution_count": 233
        }
      ]
    },
    {
      "cell_type": "code",
      "metadata": {
        "id": "hCy1-QaBUzTb",
        "colab_type": "code",
        "colab": {
          "base_uri": "https://localhost:8080/",
          "height": 51
        },
        "outputId": "3b7bf8d2-7fc7-4764-eb71-d719bd34eabd"
      },
      "source": [
        "# Calculate 68% Confidence Interval (CI) - one standard error from the population mean\n",
        "# 68% chances the population mean is within the sample_mean (+ or -) the standard error (SE)\n",
        "\n",
        "LCL_68 = sample_mean_50 -  std_err\n",
        "UCL_68 = sample_mean_50 +  std_err\n",
        "\n",
        "print(\"Lower confidence limit at 68% confidence level = \", round(LCL_68,2))\n",
        "print(\"Upper confidence limit at 68% confidence level = \", round(UCL_68,2))"
      ],
      "execution_count": 235,
      "outputs": [
        {
          "output_type": "stream",
          "text": [
            "Lower confidence limit at 68% confidence level =  36774.06\n",
            "Upper confidence limit at 68% confidence level =  41261.94\n"
          ],
          "name": "stdout"
        }
      ]
    },
    {
      "cell_type": "code",
      "metadata": {
        "id": "vMAyJXF6cFAs",
        "colab_type": "code",
        "colab": {
          "base_uri": "https://localhost:8080/",
          "height": 51
        },
        "outputId": "c546bbf8-8f8b-43c0-b21c-acc85c029a23"
      },
      "source": [
        "# Calculate 95% Confidence Interval (CI) - one standard error from the population mean\n",
        "# 90% chances the population mean is within the sample_mean + or - 2 * the standard error (SE)\n",
        "\n",
        "LCL_95 = sample_mean_50 -  2 * std_err\n",
        "UCL_95 = sample_mean_50 +  2 * std_err\n",
        "\n",
        "print(\"Lower confidence limit at 95% confidence level = \", round(LCL_95,2))\n",
        "print(\"Upper confidence limit at 95% confidence level = \", round(UCL_95,2))"
      ],
      "execution_count": 236,
      "outputs": [
        {
          "output_type": "stream",
          "text": [
            "Lower confidence limit at 95% confidence level =  34530.11\n",
            "Upper confidence limit at 95% confidence level =  43505.89\n"
          ],
          "name": "stdout"
        }
      ]
    },
    {
      "cell_type": "code",
      "metadata": {
        "id": "AlxhAMgBdGjG",
        "colab_type": "code",
        "colab": {
          "base_uri": "https://localhost:8080/",
          "height": 51
        },
        "outputId": "2a0fa145-ec70-4472-8c50-77761fccc066"
      },
      "source": [
        "# Calculate 99.7% Confidence Interval (CI) - one standard error from the population mean\n",
        "# 99.7% chances the population mean is within the sample_mean + or - 3 * the standard error (SE)\n",
        "\n",
        "LCL_997 = sample_mean_50 -  3 * std_err\n",
        "UCL_997 = sample_mean_50 +  3 * std_err\n",
        "print(\"Lower confidence limit at 99.7% confidence level = \", round(LCL_997,2))\n",
        "print(\"Upper confidence limit at 99.7% confidence level = \", round(UCL_997,2))"
      ],
      "execution_count": 237,
      "outputs": [
        {
          "output_type": "stream",
          "text": [
            "Lower confidence limit at 99.7% confidence level =  32286.17\n",
            "Upper confidence limit at 99.7% confidence level =  45749.83\n"
          ],
          "name": "stdout"
        }
      ]
    },
    {
      "cell_type": "code",
      "metadata": {
        "id": "xN2x8FG1dGnK",
        "colab_type": "code",
        "colab": {
          "base_uri": "https://localhost:8080/",
          "height": 34
        },
        "outputId": "8ea612fe-087a-49c3-de9d-417835c04adb"
      },
      "source": [
        "df_new['MD_EARN_WNE_P10'].mean()"
      ],
      "execution_count": 238,
      "outputs": [
        {
          "output_type": "execute_result",
          "data": {
            "text/plain": [
              "36083.21640582839"
            ]
          },
          "metadata": {
            "tags": []
          },
          "execution_count": 238
        }
      ]
    },
    {
      "cell_type": "code",
      "metadata": {
        "id": "DPwaurDSeBYO",
        "colab_type": "code",
        "colab": {
          "base_uri": "https://localhost:8080/",
          "height": 34
        },
        "outputId": "a22dbeaf-f6a3-4a6f-cd03-d235e10b2e84"
      },
      "source": [
        "df_sample_50['MD_EARN_WNE_P10'].mean()"
      ],
      "execution_count": 239,
      "outputs": [
        {
          "output_type": "execute_result",
          "data": {
            "text/plain": [
              "39018.0"
            ]
          },
          "metadata": {
            "tags": []
          },
          "execution_count": 239
        }
      ]
    },
    {
      "cell_type": "code",
      "metadata": {
        "id": "TnXaR53CeGDC",
        "colab_type": "code",
        "colab": {
          "base_uri": "https://localhost:8080/",
          "height": 68
        },
        "outputId": "58be75d5-2bc3-4a64-9900-030db016a242"
      },
      "source": [
        "print('Population mean : ', round(df_new['MD_EARN_WNE_P10'].mean(), 2))\n",
        "print('Sample 50 mean : ', sample_mean_50)\n",
        "print('Difference Between Population mean and Sample mean :', round(df_new['MD_EARN_WNE_P10'].mean() - sample_mean_50, 2))"
      ],
      "execution_count": 240,
      "outputs": [
        {
          "output_type": "stream",
          "text": [
            "Population mean :  36083.22\n",
            "Sample 50 mean :  39018.0\n",
            "Difference Between Population mean and Sample mean : -2934.78\n"
          ],
          "name": "stdout"
        }
      ]
    },
    {
      "cell_type": "markdown",
      "metadata": {
        "id": "L1b4ydGYgGMI",
        "colab_type": "text"
      },
      "source": [
        "And It seems that population mean of 36083.21 is falling within in all confidence levels"
      ]
    },
    {
      "cell_type": "markdown",
      "metadata": {
        "id": "KN1hoFNUglq5",
        "colab_type": "text"
      },
      "source": [
        "--------------------------"
      ]
    },
    {
      "cell_type": "code",
      "metadata": {
        "colab_type": "code",
        "id": "CJbUJsbUgpzT",
        "colab": {}
      },
      "source": [
        "# creating 100 samples dataframe \n",
        "\n",
        "df_sample_100 = df_new.sample(100)"
      ],
      "execution_count": 0,
      "outputs": []
    },
    {
      "cell_type": "code",
      "metadata": {
        "colab_type": "code",
        "outputId": "42f47881-38a2-4b65-c2d1-c243002e15ec",
        "id": "p4pEV8rigpzk",
        "colab": {
          "base_uri": "https://localhost:8080/",
          "height": 297
        }
      },
      "source": [
        "df_sample_100.describe()"
      ],
      "execution_count": 244,
      "outputs": [
        {
          "output_type": "execute_result",
          "data": {
            "text/html": [
              "<div>\n",
              "<style scoped>\n",
              "    .dataframe tbody tr th:only-of-type {\n",
              "        vertical-align: middle;\n",
              "    }\n",
              "\n",
              "    .dataframe tbody tr th {\n",
              "        vertical-align: top;\n",
              "    }\n",
              "\n",
              "    .dataframe thead th {\n",
              "        text-align: right;\n",
              "    }\n",
              "</style>\n",
              "<table border=\"1\" class=\"dataframe\">\n",
              "  <thead>\n",
              "    <tr style=\"text-align: right;\">\n",
              "      <th></th>\n",
              "      <th>CONTROL</th>\n",
              "      <th>MD_EARN_WNE_P10</th>\n",
              "    </tr>\n",
              "  </thead>\n",
              "  <tbody>\n",
              "    <tr>\n",
              "      <th>count</th>\n",
              "      <td>100.0</td>\n",
              "      <td>100.000000</td>\n",
              "    </tr>\n",
              "    <tr>\n",
              "      <th>mean</th>\n",
              "      <td>1.0</td>\n",
              "      <td>38777.000000</td>\n",
              "    </tr>\n",
              "    <tr>\n",
              "      <th>std</th>\n",
              "      <td>0.0</td>\n",
              "      <td>29378.989452</td>\n",
              "    </tr>\n",
              "    <tr>\n",
              "      <th>min</th>\n",
              "      <td>1.0</td>\n",
              "      <td>19500.000000</td>\n",
              "    </tr>\n",
              "    <tr>\n",
              "      <th>25%</th>\n",
              "      <td>1.0</td>\n",
              "      <td>28975.000000</td>\n",
              "    </tr>\n",
              "    <tr>\n",
              "      <th>50%</th>\n",
              "      <td>1.0</td>\n",
              "      <td>33500.000000</td>\n",
              "    </tr>\n",
              "    <tr>\n",
              "      <th>75%</th>\n",
              "      <td>1.0</td>\n",
              "      <td>39175.000000</td>\n",
              "    </tr>\n",
              "    <tr>\n",
              "      <th>max</th>\n",
              "      <td>1.0</td>\n",
              "      <td>241900.000000</td>\n",
              "    </tr>\n",
              "  </tbody>\n",
              "</table>\n",
              "</div>"
            ],
            "text/plain": [
              "       CONTROL  MD_EARN_WNE_P10\n",
              "count    100.0       100.000000\n",
              "mean       1.0     38777.000000\n",
              "std        0.0     29378.989452\n",
              "min        1.0     19500.000000\n",
              "25%        1.0     28975.000000\n",
              "50%        1.0     33500.000000\n",
              "75%        1.0     39175.000000\n",
              "max        1.0    241900.000000"
            ]
          },
          "metadata": {
            "tags": []
          },
          "execution_count": 244
        }
      ]
    },
    {
      "cell_type": "code",
      "metadata": {
        "colab_type": "code",
        "outputId": "9c5ec903-b98c-438f-cbfe-683dc248f0d0",
        "id": "7cIUYYvMgpzt",
        "colab": {
          "base_uri": "https://localhost:8080/",
          "height": 34
        }
      },
      "source": [
        "sample_mean_100 = df_sample_100[\"MD_EARN_WNE_P10\"].mean()\n",
        "sample_mean_100"
      ],
      "execution_count": 245,
      "outputs": [
        {
          "output_type": "execute_result",
          "data": {
            "text/plain": [
              "38777.0"
            ]
          },
          "metadata": {
            "tags": []
          },
          "execution_count": 245
        }
      ]
    },
    {
      "cell_type": "code",
      "metadata": {
        "colab_type": "code",
        "outputId": "65daa06e-d8ec-49bb-b979-655ec9b668e4",
        "id": "zNZ6D_lNgpz2",
        "colab": {
          "base_uri": "https://localhost:8080/",
          "height": 34
        }
      },
      "source": [
        "sample_std_dev = df_sample_100[\"MD_EARN_WNE_P10\"].std()\n",
        "sample_std_dev"
      ],
      "execution_count": 246,
      "outputs": [
        {
          "output_type": "execute_result",
          "data": {
            "text/plain": [
              "29378.989451853533"
            ]
          },
          "metadata": {
            "tags": []
          },
          "execution_count": 246
        }
      ]
    },
    {
      "cell_type": "code",
      "metadata": {
        "colab_type": "code",
        "outputId": "c408f7f6-f989-49fa-9bbc-8382fd019059",
        "id": "Mx8_wOrsgpz9",
        "colab": {
          "base_uri": "https://localhost:8080/",
          "height": 34
        }
      },
      "source": [
        "# let's calculate the standard error first \n",
        "# Since we assume we don't know the population standard deviation, we use sample standard deviation as an estimate\n",
        "\n",
        "std_err = sample_std_dev / math.sqrt(50)       # standard error\n",
        "std_err"
      ],
      "execution_count": 247,
      "outputs": [
        {
          "output_type": "execute_result",
          "data": {
            "text/plain": [
              "4154.816533162737"
            ]
          },
          "metadata": {
            "tags": []
          },
          "execution_count": 247
        }
      ]
    },
    {
      "cell_type": "code",
      "metadata": {
        "colab_type": "code",
        "outputId": "e2d14bf6-38dc-4509-d6e0-1f02bb5292ad",
        "id": "RuwksI33gp0L",
        "colab": {
          "base_uri": "https://localhost:8080/",
          "height": 51
        }
      },
      "source": [
        "# Calculate 68% Confidence Interval (CI) - one standard error from the population mean\n",
        "# 68% chances the population mean is within the sample_mean (+ or -) the standard error (SE)\n",
        "\n",
        "LCL_68 = sample_mean_100 -  std_err\n",
        "UCL_68 = sample_mean_100 +  std_err\n",
        "\n",
        "print(\"Lower confidence limit at 68% confidence level = \", round(LCL_68,2))\n",
        "print(\"Upper confidence limit at 68% confidence level = \", round(UCL_68,2))"
      ],
      "execution_count": 250,
      "outputs": [
        {
          "output_type": "stream",
          "text": [
            "Lower confidence limit at 68% confidence level =  34622.18\n",
            "Upper confidence limit at 68% confidence level =  42931.82\n"
          ],
          "name": "stdout"
        }
      ]
    },
    {
      "cell_type": "code",
      "metadata": {
        "colab_type": "code",
        "outputId": "b3632164-fdcf-493b-9400-808d7af87959",
        "id": "3p4OIyeqgp0S",
        "colab": {
          "base_uri": "https://localhost:8080/",
          "height": 51
        }
      },
      "source": [
        "# Calculate 95% Confidence Interval (CI) - one standard error from the population mean\n",
        "# 90% chances the population mean is within the sample_mean + or - 2 * the standard error (SE)\n",
        "\n",
        "LCL_95 = sample_mean_100 -  2 * std_err\n",
        "UCL_95 = sample_mean_100 +  2 * std_err\n",
        "\n",
        "print(\"Lower confidence limit at 95% confidence level = \", round(LCL_95,2))\n",
        "print(\"Upper confidence limit at 95% confidence level = \", round(UCL_95,2))"
      ],
      "execution_count": 251,
      "outputs": [
        {
          "output_type": "stream",
          "text": [
            "Lower confidence limit at 95% confidence level =  30467.37\n",
            "Upper confidence limit at 95% confidence level =  47086.63\n"
          ],
          "name": "stdout"
        }
      ]
    },
    {
      "cell_type": "code",
      "metadata": {
        "colab_type": "code",
        "outputId": "d152813b-ee1c-418a-eb24-bc3b95b27990",
        "id": "3NWzAB_pgp0Y",
        "colab": {
          "base_uri": "https://localhost:8080/",
          "height": 51
        }
      },
      "source": [
        "# Calculate 99.7% Confidence Interval (CI) - one standard error from the population mean\n",
        "# 99.7% chances the population mean is within the sample_mean + or - 3 * the standard error (SE)\n",
        "\n",
        "LCL_997 = sample_mean_100 -  3 * std_err\n",
        "UCL_997 = sample_mean_100 +  3 * std_err\n",
        "print(\"Lower confidence limit at 99.7% confidence level = \", round(LCL_997,2))\n",
        "print(\"Upper confidence limit at 99.7% confidence level = \", round(UCL_997,2))"
      ],
      "execution_count": 252,
      "outputs": [
        {
          "output_type": "stream",
          "text": [
            "Lower confidence limit at 99.7% confidence level =  26312.55\n",
            "Upper confidence limit at 99.7% confidence level =  51241.45\n"
          ],
          "name": "stdout"
        }
      ]
    },
    {
      "cell_type": "code",
      "metadata": {
        "colab_type": "code",
        "outputId": "d8946283-1d8b-4de6-ef75-892d5f956d51",
        "id": "8u9vvr1Jgp0d",
        "colab": {
          "base_uri": "https://localhost:8080/",
          "height": 34
        }
      },
      "source": [
        "df_new['MD_EARN_WNE_P10'].mean()"
      ],
      "execution_count": 253,
      "outputs": [
        {
          "output_type": "execute_result",
          "data": {
            "text/plain": [
              "36083.21640582839"
            ]
          },
          "metadata": {
            "tags": []
          },
          "execution_count": 253
        }
      ]
    },
    {
      "cell_type": "code",
      "metadata": {
        "colab_type": "code",
        "outputId": "46164c4c-ab16-4149-9d1c-2648774c008a",
        "id": "BmJMBpQWgp0h",
        "colab": {
          "base_uri": "https://localhost:8080/",
          "height": 34
        }
      },
      "source": [
        "df_sample_100['MD_EARN_WNE_P10'].mean()"
      ],
      "execution_count": 254,
      "outputs": [
        {
          "output_type": "execute_result",
          "data": {
            "text/plain": [
              "38777.0"
            ]
          },
          "metadata": {
            "tags": []
          },
          "execution_count": 254
        }
      ]
    },
    {
      "cell_type": "code",
      "metadata": {
        "colab_type": "code",
        "outputId": "ae352846-968a-4c62-d302-88f19c87fd42",
        "id": "6WcGBRFygp0k",
        "colab": {
          "base_uri": "https://localhost:8080/",
          "height": 68
        }
      },
      "source": [
        "print('Population mean : ', round(df_new['MD_EARN_WNE_P10'].mean(), 2))\n",
        "print('Sample 100 mean : ', sample_mean_100)\n",
        "print('Difference Between Population mean and Sample mean :', round(df_new['MD_EARN_WNE_P10'].mean() - sample_mean_100, 2))"
      ],
      "execution_count": 255,
      "outputs": [
        {
          "output_type": "stream",
          "text": [
            "Population mean :  36083.22\n",
            "Sample 100 mean :  38777.0\n",
            "Difference Between Population mean and Sample mean : -2693.78\n"
          ],
          "name": "stdout"
        }
      ]
    },
    {
      "cell_type": "markdown",
      "metadata": {
        "colab_type": "text",
        "id": "cNkinqw3gp0o"
      },
      "source": [
        "And It seems that population mean of 36083.21 is falling within in all confidence levels"
      ]
    },
    {
      "cell_type": "markdown",
      "metadata": {
        "id": "Vq5SGTcnhvK8",
        "colab_type": "text"
      },
      "source": [
        "--------------------------------------\n",
        "although below values will be different for different sample... I put them in just to make my conclusion"
      ]
    },
    {
      "cell_type": "markdown",
      "metadata": {
        "id": "ICSnvYghh2GQ",
        "colab_type": "text"
      },
      "source": [
        "\n",
        "\n",
        "- Population mean : 36083.22\n",
        "- Sample 50 mean :  35710.0\n",
        "- Sample 100 mean : 35577.0\n",
        "\n",
        "---------------------------\n",
        "\n",
        "### Comparision between 68% Confidence level\n",
        "\n",
        "- Sample 50 : [34379.84, 37040.16]\n",
        "- Sample 100 : [33942.22, 36215.78]\n",
        "\n",
        "---------------------------\n",
        "\n",
        "### Comparision between 95% Confidence level\n",
        "\n",
        "- Sample 50 : [33049.68, 38370.32]\n",
        "- Sample 100 : [32916.68, 38237.32]\n",
        "\n",
        "----------------------------\n",
        "### Comparision between 99.7% Confidence level\n",
        "\n",
        "- Sample 50 : [31719.52, 39700.48]\n",
        "- Sample 100 : [31586.52, 39567.48]\n"
      ]
    },
    {
      "cell_type": "markdown",
      "metadata": {
        "id": "AHd4RDQbkVp9",
        "colab_type": "text"
      },
      "source": [
        "After comparing all the confidence level between sample 50 and 100, I can say that at 99.7% confidence level almost confidence interval(CI) have very close value as compared to 68% confidence level.\n",
        "\n",
        "That means higher the confidence level closer the range of Confidence Interval(CI) of samples for 50 and 100."
      ]
    },
    {
      "cell_type": "code",
      "metadata": {
        "id": "vLQxybzpluf6",
        "colab_type": "code",
        "colab": {}
      },
      "source": [
        ""
      ],
      "execution_count": 0,
      "outputs": []
    }
  ]
}