{
  "nbformat": 4,
  "nbformat_minor": 0,
  "metadata": {
    "colab": {
      "name": "Overview_of_Altair.ipynb",
      "provenance": [],
      "authorship_tag": "ABX9TyNt+cq0m6pHDSgKQPbZElju",
      "include_colab_link": true
    },
    "kernelspec": {
      "name": "python3",
      "display_name": "Python 3"
    }
  },
  "cells": [
    {
      "cell_type": "markdown",
      "metadata": {
        "id": "view-in-github",
        "colab_type": "text"
      },
      "source": [
        "<a href=\"https://colab.research.google.com/github/harshbhanderi/Altair-Visualization-Demo/blob/master/Overview_of_Altair.ipynb\" target=\"_parent\"><img src=\"https://colab.research.google.com/assets/colab-badge.svg\" alt=\"Open In Colab\"/></a>"
      ]
    },
    {
      "cell_type": "code",
      "metadata": {
        "id": "_uZKHoR29K_M",
        "colab_type": "code",
        "colab": {}
      },
      "source": [
        ""
      ],
      "execution_count": 0,
      "outputs": []
    },
    {
      "cell_type": "markdown",
      "metadata": {
        "id": "eaYUsC9E9MR3",
        "colab_type": "text"
      },
      "source": [
        "# **1. Overview of Altair**\n",
        "\n",
        "## 1.1 What is Altair\n",
        "\n",
        "- Altair is a declarative statistical visualization library in Python, based on Vega-lite.\n",
        "\n",
        "\n",
        "\n",
        "---\n",
        "\n",
        "\n",
        "I am sure many people would be asking these two questions by now:\n",
        "\n",
        "- What is meant by declarative?\n",
        "- Why is another library required for visualization?\n",
        "\n",
        "  By declarative, I mean that while plotting any chart, you only need to declare links between data columns to the encoding channels, such as x-axis, y-axis, colour, etc. and rest all of the plot details are handled automatically. Let’s understand it by an example.\n",
        "\n",
        "\n",
        "### Take a look at the plot below\n",
        "\n",
        "![alt text](https://cdn.analyticsvidhya.com/wp-content/uploads/2017/12/03222417/Screen-Shot-2017-12-03-at-10.24.00-PM.png)\n",
        "\n",
        "So, if you notice, I just mentioned x,y and color and rest of the things like legend, axis labels, range etc. all are automatically set.\n",
        "\n",
        "Now, take a look at the image below which is the matplotlib implementation of the same visualization we previously did with Altair.\n",
        "\n",
        "![alt text](https://cdn.analyticsvidhya.com/wp-content/uploads/2017/12/03232253/Screen-Shot-2017-12-03-at-11.22.28-PM.png)\n",
        "\n",
        "Here, I need to explicitly use groupby function, define axis names, legends etc. which becomes a lot of extra work while you are doing an exploratory analysis.\n",
        "\n",
        "Therefore being declarative makes Altair simple, friendly and consistent. It produces beautiful and effective visualizations with the minimal amount of code. Therefore you can spend more time understanding your data rather than spending your time on setting the legends, defining axes and so on.\n",
        "\n",
        "I suppose by now you must have got the answer to the second question also.\n"
      ]
    }
  ]
}